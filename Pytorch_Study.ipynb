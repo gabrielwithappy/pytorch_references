{
  "nbformat": 4,
  "nbformat_minor": 0,
  "metadata": {
    "colab": {
      "provenance": [],
      "authorship_tag": "ABX9TyOUW/uPAI3kGMqJWOSe1F9x",
      "include_colab_link": true
    },
    "kernelspec": {
      "name": "python3",
      "display_name": "Python 3"
    },
    "language_info": {
      "name": "python"
    },
    "accelerator": "GPU"
  },
  "cells": [
    {
      "cell_type": "markdown",
      "metadata": {
        "id": "view-in-github",
        "colab_type": "text"
      },
      "source": [
        "<a href=\"https://colab.research.google.com/github/gabrielwithappy/pytorch_references/blob/main/Pytorch_Study.ipynb\" target=\"_parent\"><img src=\"https://colab.research.google.com/assets/colab-badge.svg\" alt=\"Open In Colab\"/></a>"
      ]
    },
    {
      "cell_type": "code",
      "execution_count": null,
      "metadata": {
        "id": "tOkgdhQF83s5"
      },
      "outputs": [],
      "source": [
        "import torch\n",
        "import numpy as np"
      ]
    },
    {
      "cell_type": "markdown",
      "source": [
        "# Pytorch 기본"
      ],
      "metadata": {
        "id": "dumqEoZLdW52"
      }
    },
    {
      "cell_type": "markdown",
      "source": [
        "## Tensor 생성"
      ],
      "metadata": {
        "id": "gDWSX-jo9G69"
      }
    },
    {
      "cell_type": "code",
      "source": [
        "data = [[3,5],[10,5]]\n",
        "x_data = torch.tensor(data)\n",
        "x_data"
      ],
      "metadata": {
        "colab": {
          "base_uri": "https://localhost:8080/"
        },
        "id": "vr3kuYy38-Wq",
        "outputId": "7e5b454a-4427-4c4e-cebf-45b47bdbaa2e"
      },
      "execution_count": null,
      "outputs": [
        {
          "output_type": "execute_result",
          "data": {
            "text/plain": [
              "tensor([[ 3,  5],\n",
              "        [10,  5]])"
            ]
          },
          "metadata": {},
          "execution_count": 3
        }
      ]
    },
    {
      "cell_type": "code",
      "source": [
        "nd_array_ex = np.array(data)\n",
        "tensor_array = torch.from_numpy(nd_array_ex)\n",
        "tensor_array"
      ],
      "metadata": {
        "colab": {
          "base_uri": "https://localhost:8080/"
        },
        "id": "MqiKtE7h9GnN",
        "outputId": "b642811c-6088-4fe0-bd25-835495140d82"
      },
      "execution_count": null,
      "outputs": [
        {
          "output_type": "execute_result",
          "data": {
            "text/plain": [
              "tensor([[ 3,  5],\n",
              "        [10,  5]])"
            ]
          },
          "metadata": {},
          "execution_count": 5
        }
      ]
    },
    {
      "cell_type": "markdown",
      "source": [
        "## GPU에 변수 올리기"
      ],
      "metadata": {
        "id": "Pt9bRluN9_am"
      }
    },
    {
      "cell_type": "code",
      "source": [
        "data = [[3,5],[10,5]]\n",
        "x_data = torch.tensor(data)\n",
        "x_data.device\n"
      ],
      "metadata": {
        "colab": {
          "base_uri": "https://localhost:8080/"
        },
        "id": "2cXaAcIk-EqM",
        "outputId": "a80400cd-3ad0-4026-8af6-d55707a4dca3"
      },
      "execution_count": null,
      "outputs": [
        {
          "output_type": "execute_result",
          "data": {
            "text/plain": [
              "device(type='cpu')"
            ]
          },
          "metadata": {},
          "execution_count": 5
        }
      ]
    },
    {
      "cell_type": "code",
      "source": [
        "\n",
        "if torch.cuda.is_available():\n",
        "  x_data_cuda = x_data.to('cuda')\n",
        "x_data_cuda.device"
      ],
      "metadata": {
        "colab": {
          "base_uri": "https://localhost:8080/"
        },
        "id": "bMlpijQX-UFy",
        "outputId": "30f69a5d-c077-4977-a707-36e36d9a32b2"
      },
      "execution_count": null,
      "outputs": [
        {
          "output_type": "execute_result",
          "data": {
            "text/plain": [
              "device(type='cuda', index=0)"
            ]
          },
          "metadata": {},
          "execution_count": 6
        }
      ]
    },
    {
      "cell_type": "markdown",
      "source": [
        "## Torch View Hangling"
      ],
      "metadata": {
        "id": "AriuyydI_KiM"
      }
    },
    {
      "cell_type": "code",
      "source": [
        "tensor_ex = torch.rand(size=(2, 3, 2))\n",
        "tensor_ex"
      ],
      "metadata": {
        "colab": {
          "base_uri": "https://localhost:8080/"
        },
        "id": "4kUuk5dY_Nt_",
        "outputId": "071e6ee6-f4ec-4706-a01d-adcf7419c484"
      },
      "execution_count": null,
      "outputs": [
        {
          "output_type": "execute_result",
          "data": {
            "text/plain": [
              "tensor([[[0.6075, 0.2419],\n",
              "         [0.3252, 0.4242],\n",
              "         [0.9686, 0.3278]],\n",
              "\n",
              "        [[0.3841, 0.3731],\n",
              "         [0.4988, 0.2533],\n",
              "         [0.6208, 0.7282]]])"
            ]
          },
          "metadata": {},
          "execution_count": 7
        }
      ]
    },
    {
      "cell_type": "code",
      "source": [
        "tensor_ex.view([-1,6])"
      ],
      "metadata": {
        "colab": {
          "base_uri": "https://localhost:8080/"
        },
        "id": "3jlZDUPF-xmI",
        "outputId": "97d7db46-d0e0-4154-e74c-e57557250942"
      },
      "execution_count": null,
      "outputs": [
        {
          "output_type": "execute_result",
          "data": {
            "text/plain": [
              "tensor([[0.6075, 0.2419, 0.3252, 0.4242, 0.9686, 0.3278],\n",
              "        [0.3841, 0.3731, 0.4988, 0.2533, 0.6208, 0.7282]])"
            ]
          },
          "metadata": {},
          "execution_count": 9
        }
      ]
    },
    {
      "cell_type": "code",
      "source": [
        "tensor_ex.reshape([-1,6])"
      ],
      "metadata": {
        "colab": {
          "base_uri": "https://localhost:8080/"
        },
        "id": "eAIw0NeW_l7c",
        "outputId": "0cea4946-0eca-46ef-fd94-dc79d16cef91"
      },
      "execution_count": null,
      "outputs": [
        {
          "output_type": "execute_result",
          "data": {
            "text/plain": [
              "tensor([[0.6075, 0.2419, 0.3252, 0.4242, 0.9686, 0.3278],\n",
              "        [0.3841, 0.3731, 0.4988, 0.2533, 0.6208, 0.7282]])"
            ]
          },
          "metadata": {},
          "execution_count": 11
        }
      ]
    },
    {
      "cell_type": "markdown",
      "source": [
        "## Difference btw view and reshape"
      ],
      "metadata": {
        "id": "nligOGvE_0nC"
      }
    },
    {
      "cell_type": "code",
      "source": [
        "a = torch.zeros(3,2)\n",
        "b = a.view(2,3)\n",
        "a.fill_(1)\n",
        "# view를 사용하면 a의 메모리 주소를 이용하여 변경하기 때문에 a를 변경하면 view를 통해 변경한 b도 변경된다."
      ],
      "metadata": {
        "colab": {
          "base_uri": "https://localhost:8080/"
        },
        "id": "EspHzo7d_pCD",
        "outputId": "2e7c1b57-6013-40f3-a22a-5511ac5a9f65"
      },
      "execution_count": null,
      "outputs": [
        {
          "output_type": "execute_result",
          "data": {
            "text/plain": [
              "tensor([[1., 1.],\n",
              "        [1., 1.],\n",
              "        [1., 1.]])"
            ]
          },
          "metadata": {},
          "execution_count": 13
        }
      ]
    },
    {
      "cell_type": "code",
      "source": [
        "a"
      ],
      "metadata": {
        "colab": {
          "base_uri": "https://localhost:8080/"
        },
        "id": "mEX-e8L5__5y",
        "outputId": "cfbffa81-f8a8-4690-818a-ea2f3b1649d5"
      },
      "execution_count": null,
      "outputs": [
        {
          "output_type": "execute_result",
          "data": {
            "text/plain": [
              "tensor([[1., 1.],\n",
              "        [1., 1.],\n",
              "        [1., 1.]])"
            ]
          },
          "metadata": {},
          "execution_count": 15
        }
      ]
    },
    {
      "cell_type": "code",
      "source": [
        "b"
      ],
      "metadata": {
        "colab": {
          "base_uri": "https://localhost:8080/"
        },
        "id": "asc7nZW0AAyr",
        "outputId": "d7f4c58e-c2be-4037-8ab7-54784e2500b6"
      },
      "execution_count": null,
      "outputs": [
        {
          "output_type": "execute_result",
          "data": {
            "text/plain": [
              "tensor([[1., 1., 1.],\n",
              "        [1., 1., 1.]])"
            ]
          },
          "metadata": {},
          "execution_count": 17
        }
      ]
    },
    {
      "cell_type": "markdown",
      "source": [
        "## squeeze, unsqueeze"
      ],
      "metadata": {
        "id": "fJM77-J6AnVX"
      }
    },
    {
      "cell_type": "code",
      "source": [
        "tensor_ex = torch.rand(size=(2,1,2,3,4,5))\n",
        "print(tensor_ex.shape)\n",
        "tensor_ex = tensor_ex.squeeze()\n",
        "print(tensor_ex.shape)"
      ],
      "metadata": {
        "colab": {
          "base_uri": "https://localhost:8080/"
        },
        "id": "l_Rk6pTVAqg3",
        "outputId": "b46ce40a-0f59-4a3d-80bb-a1b308d6cea8"
      },
      "execution_count": null,
      "outputs": [
        {
          "output_type": "stream",
          "name": "stdout",
          "text": [
            "torch.Size([2, 1, 2, 3, 4, 5])\n",
            "torch.Size([2, 2, 3, 4, 5])\n"
          ]
        }
      ]
    },
    {
      "cell_type": "code",
      "source": [
        "tensor_ex = torch.rand(size=(2,2))\n",
        "print(tensor_ex.unsqueeze(0).shape)\n",
        "print(tensor_ex.unsqueeze(1).shape)\n",
        "print(tensor_ex.unsqueeze(2).shape)\n"
      ],
      "metadata": {
        "colab": {
          "base_uri": "https://localhost:8080/"
        },
        "id": "8s8QWfy8AjXP",
        "outputId": "974d43c0-ed50-4075-9666-81eb0b25751c"
      },
      "execution_count": null,
      "outputs": [
        {
          "output_type": "stream",
          "name": "stdout",
          "text": [
            "torch.Size([1, 2, 2])\n",
            "torch.Size([2, 1, 2])\n",
            "torch.Size([2, 2, 1])\n"
          ]
        }
      ]
    },
    {
      "cell_type": "markdown",
      "source": [
        "## Tensor Operation"
      ],
      "metadata": {
        "id": "ZnbwJOZdCczN"
      }
    },
    {
      "cell_type": "code",
      "source": [
        "n1 = np.arange(10).reshape(2,5)\n",
        "n2 = np.arange(10).reshape(5,2)\n",
        "t1 = torch.FloatTensor(n1)\n",
        "t2 = torch.FloatTensor(n2)\n",
        "\n",
        "t1 + t1"
      ],
      "metadata": {
        "colab": {
          "base_uri": "https://localhost:8080/"
        },
        "id": "sj6Y31uECePn",
        "outputId": "d5706379-ee77-4afa-bb4e-55bd0f325218"
      },
      "execution_count": null,
      "outputs": [
        {
          "output_type": "execute_result",
          "data": {
            "text/plain": [
              "tensor([[ 0.,  2.,  4.,  6.,  8.],\n",
              "        [10., 12., 14., 16., 18.]])"
            ]
          },
          "metadata": {},
          "execution_count": 36
        }
      ]
    },
    {
      "cell_type": "markdown",
      "source": [
        "## matrix multiplication"
      ],
      "metadata": {
        "id": "VfGxcpzONeQl"
      }
    },
    {
      "cell_type": "code",
      "source": [
        "mat_result = t1.matmul(t2)\n",
        "mat_result"
      ],
      "metadata": {
        "colab": {
          "base_uri": "https://localhost:8080/"
        },
        "id": "gyNyHYDeNig7",
        "outputId": "ebf5474a-55ea-441f-f5e1-41332169f87b"
      },
      "execution_count": null,
      "outputs": [
        {
          "output_type": "execute_result",
          "data": {
            "text/plain": [
              "tensor([[ 60.,  70.],\n",
              "        [160., 195.]])"
            ]
          },
          "metadata": {},
          "execution_count": 37
        }
      ]
    },
    {
      "cell_type": "code",
      "source": [
        "t1.dot(t2)"
      ],
      "metadata": {
        "colab": {
          "base_uri": "https://localhost:8080/",
          "height": 173
        },
        "id": "LXG1MgI-NZJc",
        "outputId": "61b507bc-22f2-4e18-8573-c8e5697f7c50"
      },
      "execution_count": null,
      "outputs": [
        {
          "output_type": "error",
          "ename": "RuntimeError",
          "evalue": "ignored",
          "traceback": [
            "\u001b[0;31m---------------------------------------------------------------------------\u001b[0m",
            "\u001b[0;31mRuntimeError\u001b[0m                              Traceback (most recent call last)",
            "\u001b[0;32m<ipython-input-39-e9d95797f0ac>\u001b[0m in \u001b[0;36m<module>\u001b[0;34m\u001b[0m\n\u001b[0;32m----> 1\u001b[0;31m \u001b[0mt1\u001b[0m\u001b[0;34m.\u001b[0m\u001b[0mdot\u001b[0m\u001b[0;34m(\u001b[0m\u001b[0mt2\u001b[0m\u001b[0;34m)\u001b[0m\u001b[0;34m\u001b[0m\u001b[0;34m\u001b[0m\u001b[0m\n\u001b[0m",
            "\u001b[0;31mRuntimeError\u001b[0m: 1D tensors expected, but got 2D and 2D tensors"
          ]
        }
      ]
    },
    {
      "cell_type": "code",
      "source": [
        "## matmul 과 mul의 차이점\n",
        "# matmul은 broadcasting을 지원한다.\n",
        "# mul은 element-wise 곱셈\n",
        "a = torch.rand(5,2,3)\n",
        "b = torch.rand(3)\n",
        "a.mm(b)"
      ],
      "metadata": {
        "colab": {
          "base_uri": "https://localhost:8080/",
          "height": 210
        },
        "id": "xPOgHU9KOMAY",
        "outputId": "ccc6ad12-407b-4333-cc75-8eeea0d7dcc5"
      },
      "execution_count": null,
      "outputs": [
        {
          "output_type": "error",
          "ename": "RuntimeError",
          "evalue": "ignored",
          "traceback": [
            "\u001b[0;31m---------------------------------------------------------------------------\u001b[0m",
            "\u001b[0;31mRuntimeError\u001b[0m                              Traceback (most recent call last)",
            "\u001b[0;32m<ipython-input-61-48c87a4fed10>\u001b[0m in \u001b[0;36m<module>\u001b[0;34m\u001b[0m\n\u001b[1;32m      3\u001b[0m \u001b[0ma\u001b[0m \u001b[0;34m=\u001b[0m \u001b[0mtorch\u001b[0m\u001b[0;34m.\u001b[0m\u001b[0mrand\u001b[0m\u001b[0;34m(\u001b[0m\u001b[0;36m5\u001b[0m\u001b[0;34m,\u001b[0m\u001b[0;36m2\u001b[0m\u001b[0;34m,\u001b[0m\u001b[0;36m3\u001b[0m\u001b[0;34m)\u001b[0m\u001b[0;34m\u001b[0m\u001b[0;34m\u001b[0m\u001b[0m\n\u001b[1;32m      4\u001b[0m \u001b[0mb\u001b[0m \u001b[0;34m=\u001b[0m \u001b[0mtorch\u001b[0m\u001b[0;34m.\u001b[0m\u001b[0mrand\u001b[0m\u001b[0;34m(\u001b[0m\u001b[0;36m3\u001b[0m\u001b[0;34m)\u001b[0m\u001b[0;34m\u001b[0m\u001b[0;34m\u001b[0m\u001b[0m\n\u001b[0;32m----> 5\u001b[0;31m \u001b[0ma\u001b[0m\u001b[0;34m.\u001b[0m\u001b[0mmm\u001b[0m\u001b[0;34m(\u001b[0m\u001b[0mb\u001b[0m\u001b[0;34m)\u001b[0m\u001b[0;34m\u001b[0m\u001b[0;34m\u001b[0m\u001b[0m\n\u001b[0m",
            "\u001b[0;31mRuntimeError\u001b[0m: self must be a matrix"
          ]
        }
      ]
    },
    {
      "cell_type": "markdown",
      "source": [
        "## Tensor vs Parameter"
      ],
      "metadata": {
        "id": "8zUfnRkV6K0l"
      }
    },
    {
      "cell_type": "code",
      "source": [
        "import torch\n",
        "from torch import nn\n",
        "from torch import Tensor"
      ],
      "metadata": {
        "id": "imGa7mvjOVhz"
      },
      "execution_count": null,
      "outputs": []
    },
    {
      "cell_type": "code",
      "source": [
        "class MyLinear(nn.Module):\n",
        "  def __init__(self, in_features, out_features, bias=True):\n",
        "    super().__init__()\n",
        "    self.in_features = in_features\n",
        "    self.out_features = out_features\n",
        "    \n",
        "    self.weights = nn.Parameter(\n",
        "        torch.randn(in_features, out_features)\n",
        "    )\n",
        "\n",
        "    self.bias = nn.Parameter(torch.randn(out_features))\n",
        "\n",
        "  def forward(self, x:Tensor):\n",
        "    return x @ self.weights + self.bias"
      ],
      "metadata": {
        "id": "GHscrCKE6QxR"
      },
      "execution_count": null,
      "outputs": []
    },
    {
      "cell_type": "code",
      "source": [
        "x = torch.randn(5,7)"
      ],
      "metadata": {
        "id": "VbUrcEJW-B78"
      },
      "execution_count": null,
      "outputs": []
    },
    {
      "cell_type": "code",
      "source": [
        "x.shape"
      ],
      "metadata": {
        "id": "zlYdQioNQD7H",
        "colab": {
          "base_uri": "https://localhost:8080/"
        },
        "outputId": "5a7764f9-5463-4b16-fe34-302b84f2508b"
      },
      "execution_count": null,
      "outputs": [
        {
          "output_type": "execute_result",
          "data": {
            "text/plain": [
              "torch.Size([5, 7])"
            ]
          },
          "metadata": {},
          "execution_count": 12
        }
      ]
    },
    {
      "cell_type": "code",
      "source": [
        "layer = MyLinear(7,12)\n",
        "layer(x).shape"
      ],
      "metadata": {
        "colab": {
          "base_uri": "https://localhost:8080/"
        },
        "id": "ZPYeq4kz-asF",
        "outputId": "8afd6b6e-b614-4929-e36d-83813f8b31fd"
      },
      "execution_count": null,
      "outputs": [
        {
          "output_type": "execute_result",
          "data": {
            "text/plain": [
              "torch.Size([5, 12])"
            ]
          },
          "metadata": {},
          "execution_count": 17
        }
      ]
    },
    {
      "cell_type": "code",
      "source": [
        "for value in layer.parameters():\n",
        "  print(value)"
      ],
      "metadata": {
        "id": "EW6KmOfQ-7d_",
        "outputId": "e4bf96f3-cd81-4ac3-ee6a-86dcef244d59",
        "colab": {
          "base_uri": "https://localhost:8080/"
        }
      },
      "execution_count": null,
      "outputs": [
        {
          "output_type": "stream",
          "name": "stdout",
          "text": [
            "Parameter containing:\n",
            "tensor([[ 9.7292e-01,  7.2463e-01,  2.3686e+00,  1.0789e+00, -1.8030e-01,\n",
            "          1.7170e+00, -2.9189e-01, -6.3930e-01,  2.3767e+00, -4.8461e-01,\n",
            "         -1.1455e+00,  9.8930e-02],\n",
            "        [-3.0441e-01, -1.1291e+00,  9.0228e-01, -4.0248e-01, -1.5091e-01,\n",
            "         -1.6510e+00,  3.5810e-01, -2.3164e+00, -6.6426e-01, -8.0197e-01,\n",
            "          4.5749e-01,  3.9867e-01],\n",
            "        [ 1.9872e-02,  2.2586e-01,  1.6252e+00,  3.1897e-01, -8.0338e-01,\n",
            "          6.6270e-01,  1.7231e+00, -1.1990e+00, -2.5709e-03,  1.0823e+00,\n",
            "          1.2414e-01,  9.9336e-01],\n",
            "        [ 2.0788e+00, -1.2982e+00, -5.8055e-01,  2.2683e+00,  1.3063e+00,\n",
            "         -3.8147e-02,  5.3494e-01, -2.1415e+00, -5.5401e-01, -4.3145e-01,\n",
            "         -1.8669e+00,  1.0214e+00],\n",
            "        [-2.0151e-01, -1.2663e+00, -2.8822e-01,  4.1443e-01,  2.7657e-01,\n",
            "          1.0840e+00, -1.0306e+00, -5.2982e-02, -1.2685e+00, -2.0949e+00,\n",
            "         -1.2050e+00,  5.7478e-01],\n",
            "        [ 4.1895e-01,  5.7040e-01, -2.2218e+00,  2.5730e+00, -5.9660e-02,\n",
            "         -5.3937e-01,  2.4279e-01,  6.7361e-01, -1.3305e-01,  1.1858e+00,\n",
            "          1.0306e+00,  1.0487e-01],\n",
            "        [ 7.1558e-02, -1.8337e-01, -8.6527e-01, -1.3492e+00,  6.3472e-01,\n",
            "         -1.2996e-01, -5.7935e-01,  7.4022e-01,  1.2240e+00, -5.4066e-01,\n",
            "         -1.4071e-01,  1.1453e+00]], requires_grad=True)\n",
            "Parameter containing:\n",
            "tensor([-1.4188, -0.8295,  1.1141,  1.0123,  0.1409,  0.9405,  0.3960,  1.0767,\n",
            "        -1.2541,  0.6211, -1.9078, -0.3402], requires_grad=True)\n"
          ]
        }
      ]
    },
    {
      "cell_type": "markdown",
      "source": [],
      "metadata": {
        "id": "jRaJvVRc-0gr"
      }
    }
  ]
}