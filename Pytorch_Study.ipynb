{
  "nbformat": 4,
  "nbformat_minor": 0,
  "metadata": {
    "colab": {
      "provenance": [],
      "authorship_tag": "ABX9TyMDaWcEtXHbM5TsMRHxDHMK",
      "include_colab_link": true
    },
    "kernelspec": {
      "name": "python3",
      "display_name": "Python 3"
    },
    "language_info": {
      "name": "python"
    },
    "gpuClass": "standard"
  },
  "cells": [
    {
      "cell_type": "markdown",
      "metadata": {
        "id": "view-in-github",
        "colab_type": "text"
      },
      "source": [
        "<a href=\"https://colab.research.google.com/github/gabrielwithappy/pytorch_references/blob/main/Pytorch_Study.ipynb\" target=\"_parent\"><img src=\"https://colab.research.google.com/assets/colab-badge.svg\" alt=\"Open In Colab\"/></a>"
      ]
    },
    {
      "cell_type": "code",
      "execution_count": 8,
      "metadata": {
        "id": "tOkgdhQF83s5"
      },
      "outputs": [],
      "source": [
        "import torch\n",
        "import numpy as np"
      ]
    },
    {
      "cell_type": "markdown",
      "source": [
        "# Pytorch 기본"
      ],
      "metadata": {
        "id": "dumqEoZLdW52"
      }
    },
    {
      "cell_type": "markdown",
      "source": [
        "## Tensor 생성"
      ],
      "metadata": {
        "id": "gDWSX-jo9G69"
      }
    },
    {
      "cell_type": "code",
      "source": [
        "data = [[3,5],[10,5]]\n",
        "x_data = torch.tensor(data)\n",
        "x_data"
      ],
      "metadata": {
        "colab": {
          "base_uri": "https://localhost:8080/"
        },
        "id": "vr3kuYy38-Wq",
        "outputId": "3c60d33d-97f7-426a-d707-df75dfe78a22"
      },
      "execution_count": 9,
      "outputs": [
        {
          "output_type": "execute_result",
          "data": {
            "text/plain": [
              "tensor([[ 3,  5],\n",
              "        [10,  5]])"
            ]
          },
          "metadata": {},
          "execution_count": 9
        }
      ]
    },
    {
      "cell_type": "code",
      "source": [
        "nd_array_ex = np.array(data)\n",
        "tensor_array = torch.from_numpy(nd_array_ex)\n",
        "tensor_array"
      ],
      "metadata": {
        "colab": {
          "base_uri": "https://localhost:8080/"
        },
        "id": "MqiKtE7h9GnN",
        "outputId": "7f42dbc3-bd4d-4cb0-c164-b43c0d2687ee"
      },
      "execution_count": 10,
      "outputs": [
        {
          "output_type": "execute_result",
          "data": {
            "text/plain": [
              "tensor([[ 3,  5],\n",
              "        [10,  5]])"
            ]
          },
          "metadata": {},
          "execution_count": 10
        }
      ]
    },
    {
      "cell_type": "markdown",
      "source": [
        "## GPU에 변수 올리기"
      ],
      "metadata": {
        "id": "Pt9bRluN9_am"
      }
    },
    {
      "cell_type": "code",
      "source": [
        "data = [[3,5],[10,5]]\n",
        "x_data = torch.tensor(data)\n",
        "x_data.device\n"
      ],
      "metadata": {
        "colab": {
          "base_uri": "https://localhost:8080/"
        },
        "id": "2cXaAcIk-EqM",
        "outputId": "8d08967d-c633-4be9-83c7-f9d12f537c52"
      },
      "execution_count": 11,
      "outputs": [
        {
          "output_type": "execute_result",
          "data": {
            "text/plain": [
              "device(type='cpu')"
            ]
          },
          "metadata": {},
          "execution_count": 11
        }
      ]
    },
    {
      "cell_type": "code",
      "source": [
        "if torch.cuda.is_available():\n",
        "  x_data_cuda = x_data.to('cuda')\n",
        "  x_data_cuda.device"
      ],
      "metadata": {
        "id": "bMlpijQX-UFy"
      },
      "execution_count": 12,
      "outputs": []
    },
    {
      "cell_type": "markdown",
      "source": [
        "## Torch View Hangling"
      ],
      "metadata": {
        "id": "AriuyydI_KiM"
      }
    },
    {
      "cell_type": "code",
      "source": [
        "tensor_ex = torch.rand(size=(2, 3, 2))\n",
        "tensor_ex"
      ],
      "metadata": {
        "colab": {
          "base_uri": "https://localhost:8080/"
        },
        "id": "4kUuk5dY_Nt_",
        "outputId": "9fa24e4b-1afb-443e-e835-5027777ce351"
      },
      "execution_count": 13,
      "outputs": [
        {
          "output_type": "execute_result",
          "data": {
            "text/plain": [
              "tensor([[[0.1276, 0.4262],\n",
              "         [0.1710, 0.2664],\n",
              "         [0.2366, 0.6438]],\n",
              "\n",
              "        [[0.8062, 0.5459],\n",
              "         [0.5875, 0.9806],\n",
              "         [0.4418, 0.1467]]])"
            ]
          },
          "metadata": {},
          "execution_count": 13
        }
      ]
    },
    {
      "cell_type": "code",
      "source": [
        "tensor_ex.view([-1,6])"
      ],
      "metadata": {
        "colab": {
          "base_uri": "https://localhost:8080/"
        },
        "id": "3jlZDUPF-xmI",
        "outputId": "a9b1a803-8f64-4a65-e5dd-c9385d750ace"
      },
      "execution_count": 14,
      "outputs": [
        {
          "output_type": "execute_result",
          "data": {
            "text/plain": [
              "tensor([[0.1276, 0.4262, 0.1710, 0.2664, 0.2366, 0.6438],\n",
              "        [0.8062, 0.5459, 0.5875, 0.9806, 0.4418, 0.1467]])"
            ]
          },
          "metadata": {},
          "execution_count": 14
        }
      ]
    },
    {
      "cell_type": "code",
      "source": [
        "tensor_ex.reshape([-1,6])"
      ],
      "metadata": {
        "colab": {
          "base_uri": "https://localhost:8080/"
        },
        "id": "eAIw0NeW_l7c",
        "outputId": "b5238a95-a7a1-4617-b875-f7004b39f2ae"
      },
      "execution_count": 15,
      "outputs": [
        {
          "output_type": "execute_result",
          "data": {
            "text/plain": [
              "tensor([[0.1276, 0.4262, 0.1710, 0.2664, 0.2366, 0.6438],\n",
              "        [0.8062, 0.5459, 0.5875, 0.9806, 0.4418, 0.1467]])"
            ]
          },
          "metadata": {},
          "execution_count": 15
        }
      ]
    },
    {
      "cell_type": "markdown",
      "source": [
        "## Difference btw view and reshape"
      ],
      "metadata": {
        "id": "nligOGvE_0nC"
      }
    },
    {
      "cell_type": "code",
      "source": [
        "a = torch.zeros(3,2)\n",
        "b = a.view(2,3)\n",
        "a.fill_(1)\n",
        "# view를 사용하면 a의 메모리 주소를 이용하여 변경하기 때문에 a를 변경하면 view를 통해 변경한 b도 변경된다."
      ],
      "metadata": {
        "colab": {
          "base_uri": "https://localhost:8080/"
        },
        "id": "EspHzo7d_pCD",
        "outputId": "f9fac23c-8a3f-4ce7-c0b5-8712ce590ee0"
      },
      "execution_count": 16,
      "outputs": [
        {
          "output_type": "execute_result",
          "data": {
            "text/plain": [
              "tensor([[1., 1.],\n",
              "        [1., 1.],\n",
              "        [1., 1.]])"
            ]
          },
          "metadata": {},
          "execution_count": 16
        }
      ]
    },
    {
      "cell_type": "code",
      "source": [
        "a"
      ],
      "metadata": {
        "colab": {
          "base_uri": "https://localhost:8080/"
        },
        "id": "mEX-e8L5__5y",
        "outputId": "d9a2e731-3fcc-4c43-bc9b-663195d4046b"
      },
      "execution_count": 17,
      "outputs": [
        {
          "output_type": "execute_result",
          "data": {
            "text/plain": [
              "tensor([[1., 1.],\n",
              "        [1., 1.],\n",
              "        [1., 1.]])"
            ]
          },
          "metadata": {},
          "execution_count": 17
        }
      ]
    },
    {
      "cell_type": "code",
      "source": [
        "b"
      ],
      "metadata": {
        "colab": {
          "base_uri": "https://localhost:8080/"
        },
        "id": "asc7nZW0AAyr",
        "outputId": "ad668bdb-1a63-4169-a7a2-debcc7a63b2e"
      },
      "execution_count": 18,
      "outputs": [
        {
          "output_type": "execute_result",
          "data": {
            "text/plain": [
              "tensor([[1., 1., 1.],\n",
              "        [1., 1., 1.]])"
            ]
          },
          "metadata": {},
          "execution_count": 18
        }
      ]
    },
    {
      "cell_type": "markdown",
      "source": [
        "## squeeze, unsqueeze"
      ],
      "metadata": {
        "id": "fJM77-J6AnVX"
      }
    },
    {
      "cell_type": "code",
      "source": [
        "tensor_ex = torch.rand(size=(2,1,2,3,4,5))\n",
        "print(tensor_ex.shape)\n",
        "tensor_ex = tensor_ex.squeeze()\n",
        "print(tensor_ex.shape)"
      ],
      "metadata": {
        "colab": {
          "base_uri": "https://localhost:8080/"
        },
        "id": "l_Rk6pTVAqg3",
        "outputId": "d64ccf6f-2710-4bca-d891-6e3dd8371c12"
      },
      "execution_count": 19,
      "outputs": [
        {
          "output_type": "stream",
          "name": "stdout",
          "text": [
            "torch.Size([2, 1, 2, 3, 4, 5])\n",
            "torch.Size([2, 2, 3, 4, 5])\n"
          ]
        }
      ]
    },
    {
      "cell_type": "code",
      "source": [
        "tensor_ex = torch.rand(size=(2,2))\n",
        "print(tensor_ex.unsqueeze(0).shape)\n",
        "print(tensor_ex.unsqueeze(1).shape)\n",
        "print(tensor_ex.unsqueeze(2).shape)\n"
      ],
      "metadata": {
        "colab": {
          "base_uri": "https://localhost:8080/"
        },
        "id": "8s8QWfy8AjXP",
        "outputId": "f6b7b2bc-3843-419b-a315-f1f27c011cca"
      },
      "execution_count": 20,
      "outputs": [
        {
          "output_type": "stream",
          "name": "stdout",
          "text": [
            "torch.Size([1, 2, 2])\n",
            "torch.Size([2, 1, 2])\n",
            "torch.Size([2, 2, 1])\n"
          ]
        }
      ]
    },
    {
      "cell_type": "markdown",
      "source": [
        "## Tensor Operation"
      ],
      "metadata": {
        "id": "ZnbwJOZdCczN"
      }
    },
    {
      "cell_type": "code",
      "source": [
        "n1 = np.arange(10).reshape(2,5)\n",
        "n2 = np.arange(10).reshape(5,2)\n",
        "t1 = torch.FloatTensor(n1)\n",
        "t2 = torch.FloatTensor(n2)\n",
        "\n",
        "t1 + t1"
      ],
      "metadata": {
        "colab": {
          "base_uri": "https://localhost:8080/"
        },
        "id": "sj6Y31uECePn",
        "outputId": "63fd69b9-c4f9-4caa-b2d3-2155b688ebe8"
      },
      "execution_count": 21,
      "outputs": [
        {
          "output_type": "execute_result",
          "data": {
            "text/plain": [
              "tensor([[ 0.,  2.,  4.,  6.,  8.],\n",
              "        [10., 12., 14., 16., 18.]])"
            ]
          },
          "metadata": {},
          "execution_count": 21
        }
      ]
    },
    {
      "cell_type": "markdown",
      "source": [
        "## matrix multiplication"
      ],
      "metadata": {
        "id": "VfGxcpzONeQl"
      }
    },
    {
      "cell_type": "code",
      "source": [
        "mat_result = t1.matmul(t2)\n",
        "mat_result"
      ],
      "metadata": {
        "colab": {
          "base_uri": "https://localhost:8080/"
        },
        "id": "gyNyHYDeNig7",
        "outputId": "70ec19af-34a6-419f-8aa8-09bbe7d5d6ce"
      },
      "execution_count": 22,
      "outputs": [
        {
          "output_type": "execute_result",
          "data": {
            "text/plain": [
              "tensor([[ 60.,  70.],\n",
              "        [160., 195.]])"
            ]
          },
          "metadata": {},
          "execution_count": 22
        }
      ]
    },
    {
      "cell_type": "code",
      "source": [
        "## matmul 과 mul의 차이점\n",
        "# matmul은 broadcasting을 지원한다.\n",
        "# mul은 element-wise 곱셈\n",
        "a = torch.rand(5,2,3)\n",
        "b = torch.rand(3)\n"
      ],
      "metadata": {
        "id": "xPOgHU9KOMAY"
      },
      "execution_count": 25,
      "outputs": []
    },
    {
      "cell_type": "markdown",
      "source": [
        "## Tensor vs Parameter"
      ],
      "metadata": {
        "id": "8zUfnRkV6K0l"
      }
    },
    {
      "cell_type": "code",
      "source": [
        "import torch\n",
        "from torch import nn\n",
        "from torch import Tensor"
      ],
      "metadata": {
        "id": "imGa7mvjOVhz"
      },
      "execution_count": 26,
      "outputs": []
    },
    {
      "cell_type": "code",
      "source": [
        "class MyLinear(nn.Module):\n",
        "  def __init__(self, in_features, out_features, bias=True):\n",
        "    super().__init__()\n",
        "    self.in_features = in_features\n",
        "    self.out_features = out_features\n",
        "    \n",
        "    self.weights = nn.Parameter(\n",
        "        torch.randn(in_features, out_features)\n",
        "    )\n",
        "\n",
        "    self.bias = nn.Parameter(torch.randn(out_features))\n",
        "\n",
        "  def forward(self, x:Tensor):\n",
        "    return x @ self.weights + self.bias"
      ],
      "metadata": {
        "id": "GHscrCKE6QxR"
      },
      "execution_count": 27,
      "outputs": []
    },
    {
      "cell_type": "code",
      "source": [
        "x = torch.randn(5,7)"
      ],
      "metadata": {
        "id": "VbUrcEJW-B78"
      },
      "execution_count": 28,
      "outputs": []
    },
    {
      "cell_type": "code",
      "source": [
        "x.shape"
      ],
      "metadata": {
        "id": "zlYdQioNQD7H",
        "colab": {
          "base_uri": "https://localhost:8080/"
        },
        "outputId": "a4cea9e5-a13a-4b56-9a7a-e7f5c4b21fd4"
      },
      "execution_count": 29,
      "outputs": [
        {
          "output_type": "execute_result",
          "data": {
            "text/plain": [
              "torch.Size([5, 7])"
            ]
          },
          "metadata": {},
          "execution_count": 29
        }
      ]
    },
    {
      "cell_type": "code",
      "source": [
        "layer = MyLinear(7,12)\n",
        "layer(x).shape"
      ],
      "metadata": {
        "colab": {
          "base_uri": "https://localhost:8080/"
        },
        "id": "ZPYeq4kz-asF",
        "outputId": "b9d90b8c-ff93-4294-8cb4-45d21b12c03a"
      },
      "execution_count": 30,
      "outputs": [
        {
          "output_type": "execute_result",
          "data": {
            "text/plain": [
              "torch.Size([5, 12])"
            ]
          },
          "metadata": {},
          "execution_count": 30
        }
      ]
    },
    {
      "cell_type": "code",
      "source": [
        "for value in layer.parameters():\n",
        "  print(value)"
      ],
      "metadata": {
        "id": "EW6KmOfQ-7d_",
        "outputId": "75aa656d-6a60-4cc9-d026-bcd2b1912583",
        "colab": {
          "base_uri": "https://localhost:8080/"
        }
      },
      "execution_count": 31,
      "outputs": [
        {
          "output_type": "stream",
          "name": "stdout",
          "text": [
            "Parameter containing:\n",
            "tensor([[ 0.4578,  1.8471,  0.4252,  1.2517, -0.9735,  0.8305, -1.2481, -0.3753,\n",
            "         -0.9960,  0.2928,  1.0834,  1.5424],\n",
            "        [-1.5911,  1.0194, -1.3189, -2.2552,  0.0674,  0.4391,  1.1063, -0.8333,\n",
            "          0.7412,  1.4215, -0.1255,  0.6890],\n",
            "        [-0.5559,  0.3737, -0.3189,  1.5434, -1.3780,  0.0399,  0.8203, -1.3079,\n",
            "         -0.7008, -0.4337, -0.3531, -0.2104],\n",
            "        [-1.0666,  1.6718, -0.3773,  0.4835, -0.5983,  0.3013, -0.3221, -0.8970,\n",
            "          0.1494, -0.1098, -0.6480, -0.7814],\n",
            "        [-0.0670, -0.7207, -0.4550, -0.3116, -0.7561,  0.6989,  0.1072,  2.4627,\n",
            "         -1.0210, -0.7791, -0.9551,  0.3421],\n",
            "        [ 0.5550, -0.5904,  0.7705, -0.0333,  1.1292,  0.2469,  1.0940,  0.8088,\n",
            "         -0.6790, -0.6639,  0.4363,  0.7201],\n",
            "        [-0.2909, -0.1215,  0.4875, -1.3460, -0.6336,  0.8292, -0.3552,  0.3204,\n",
            "         -0.1824,  1.8984, -0.1214,  1.0396]], requires_grad=True)\n",
            "Parameter containing:\n",
            "tensor([-1.6616,  2.0016, -0.6188, -0.3096,  0.4996,  0.3683, -0.4418, -0.2232,\n",
            "         1.9070,  0.7509,  0.7691,  0.4737], requires_grad=True)\n"
          ]
        }
      ]
    },
    {
      "cell_type": "code",
      "source": [
        " \n"
      ],
      "metadata": {
        "id": "6METjK5zbFdw"
      },
      "execution_count": null,
      "outputs": []
    },
    {
      "cell_type": "markdown",
      "source": [
        "## AutoGrad for Linear Regression\n"
      ],
      "metadata": {
        "id": "EbWndL8mbxH6"
      }
    },
    {
      "cell_type": "code",
      "source": [
        "# y = 2x+1\n",
        "import numpy as np\n",
        "x_values = [i for i in range(11)]\n",
        "x_train = np.array(x_values, dtype=np.float32)\n",
        "print(x_train.shape)\n",
        "x_train = x_train.reshape(-1, 1)\n",
        "print(x_train.shape)\n",
        "\n",
        "y_values = [2*i + 1 for i in x_values]\n",
        "y_train = np.array(y_values, dtype=np.float32)\n",
        "y_train = y_train.reshape(-1, 1)"
      ],
      "metadata": {
        "colab": {
          "base_uri": "https://localhost:8080/"
        },
        "id": "MLb5SyLXbZqb",
        "outputId": "2bb92b9c-bb34-4e21-9fb3-78547a405331"
      },
      "execution_count": 32,
      "outputs": [
        {
          "output_type": "stream",
          "name": "stdout",
          "text": [
            "(11,)\n",
            "(11, 1)\n"
          ]
        }
      ]
    },
    {
      "cell_type": "code",
      "source": [
        "(x_train, y_train)"
      ],
      "metadata": {
        "colab": {
          "base_uri": "https://localhost:8080/"
        },
        "id": "bZWnQ2Uwco_w",
        "outputId": "fdd027e5-f488-4a20-8ed4-e9819ceff5d0"
      },
      "execution_count": 33,
      "outputs": [
        {
          "output_type": "execute_result",
          "data": {
            "text/plain": [
              "(array([[ 0.],\n",
              "        [ 1.],\n",
              "        [ 2.],\n",
              "        [ 3.],\n",
              "        [ 4.],\n",
              "        [ 5.],\n",
              "        [ 6.],\n",
              "        [ 7.],\n",
              "        [ 8.],\n",
              "        [ 9.],\n",
              "        [10.]], dtype=float32), array([[ 1.],\n",
              "        [ 3.],\n",
              "        [ 5.],\n",
              "        [ 7.],\n",
              "        [ 9.],\n",
              "        [11.],\n",
              "        [13.],\n",
              "        [15.],\n",
              "        [17.],\n",
              "        [19.],\n",
              "        [21.]], dtype=float32))"
            ]
          },
          "metadata": {},
          "execution_count": 33
        }
      ]
    },
    {
      "cell_type": "code",
      "source": [
        "import torch\n",
        "from torch.autograd import Variable\n",
        "class LinearRegression(torch.nn.Module):\n",
        "  def __init__(self, inputSize, outputSize):\n",
        "    super(LinearRegression, self).__init__()\n",
        "    self.linear = torch.nn.Linear(inputSize, outputSize)\n",
        "  \n",
        "  def forward(self,x ):\n",
        "    out = self.linear(x)\n",
        "    return out\n",
        "\n"
      ],
      "metadata": {
        "id": "1LEfDOohdbE5"
      },
      "execution_count": 34,
      "outputs": []
    },
    {
      "cell_type": "code",
      "source": [
        "inputDim = 1\n",
        "outputDim = 1\n",
        "learningRate = 0.01\n",
        "epochs = 500\n",
        "\n",
        "model = LinearRegression(inputDim, outputDim)\n",
        "if torch.cuda.is_available():\n",
        "  model.cuda()"
      ],
      "metadata": {
        "id": "0Jd8UIGJe9Ts"
      },
      "execution_count": 44,
      "outputs": []
    },
    {
      "cell_type": "code",
      "source": [
        "criterion = torch.nn.MSELoss()\n",
        "optimizer = torch.optim.SGD(model.parameters(), lr=learningRate)\n"
      ],
      "metadata": {
        "id": "w7kJ-QvlfSHd"
      },
      "execution_count": 45,
      "outputs": []
    },
    {
      "cell_type": "code",
      "source": [
        "for epoch in range(epochs):\n",
        "  if torch.cuda.is_available():\n",
        "    inputs = Variable(torch.from_numpy(x_train).cuda())\n",
        "    labels = Variable(torch.from_numpy(y_train).cuda())\n",
        "  else:\n",
        "    inputs = Variable(torch.from_numpy(x_train))\n",
        "    labels = Variable(torch.from_numpy(y_train))\n",
        "\n",
        "  optimizer.zero_grad()\n",
        "\n",
        "  outputs =model(inputs)\n",
        "\n",
        "  loss = criterion(outputs, labels)\n",
        "  loss.backward()\n",
        "\n",
        "  optimizer.step()\n",
        "\n",
        "  print('epoch {}, lost {}'.format(epoch, loss.item()))"
      ],
      "metadata": {
        "colab": {
          "base_uri": "https://localhost:8080/"
        },
        "id": "vtT4r1BcfeS1",
        "outputId": "f1e189e1-dd6e-4c35-d948-fded2fa5cba7"
      },
      "execution_count": 46,
      "outputs": [
        {
          "output_type": "stream",
          "name": "stdout",
          "text": [
            "epoch 0, lost 249.11289978027344\n",
            "epoch 1, lost 20.911090850830078\n",
            "epoch 2, lost 2.2907984256744385\n",
            "epoch 3, lost 0.7654640674591064\n",
            "epoch 4, lost 0.6345862746238708\n",
            "epoch 5, lost 0.6175217032432556\n",
            "epoch 6, lost 0.6098124980926514\n",
            "epoch 7, lost 0.6029360890388489\n",
            "epoch 8, lost 0.5961978435516357\n",
            "epoch 9, lost 0.589539647102356\n",
            "epoch 10, lost 0.5829558968544006\n",
            "epoch 11, lost 0.5764467120170593\n",
            "epoch 12, lost 0.5700092911720276\n",
            "epoch 13, lost 0.5636443495750427\n",
            "epoch 14, lost 0.5573499798774719\n",
            "epoch 15, lost 0.5511265397071838\n",
            "epoch 16, lost 0.5449715852737427\n",
            "epoch 17, lost 0.5388862490653992\n",
            "epoch 18, lost 0.5328688025474548\n",
            "epoch 19, lost 0.5269181132316589\n",
            "epoch 20, lost 0.5210338830947876\n",
            "epoch 21, lost 0.5152156352996826\n",
            "epoch 22, lost 0.5094623565673828\n",
            "epoch 23, lost 0.5037736296653748\n",
            "epoch 24, lost 0.4981479346752167\n",
            "epoch 25, lost 0.49258509278297424\n",
            "epoch 26, lost 0.48708435893058777\n",
            "epoch 27, lost 0.48164528608322144\n",
            "epoch 28, lost 0.4762669503688812\n",
            "epoch 29, lost 0.4709486663341522\n",
            "epoch 30, lost 0.46568939089775085\n",
            "epoch 31, lost 0.4604894816875458\n",
            "epoch 32, lost 0.455346941947937\n",
            "epoch 33, lost 0.45026227831840515\n",
            "epoch 34, lost 0.44523438811302185\n",
            "epoch 35, lost 0.4402623474597931\n",
            "epoch 36, lost 0.43534567952156067\n",
            "epoch 37, lost 0.4304845929145813\n",
            "epoch 38, lost 0.4256775975227356\n",
            "epoch 39, lost 0.4209241569042206\n",
            "epoch 40, lost 0.416223406791687\n",
            "epoch 41, lost 0.4115756154060364\n",
            "epoch 42, lost 0.40697938203811646\n",
            "epoch 43, lost 0.4024346172809601\n",
            "epoch 44, lost 0.3979410231113434\n",
            "epoch 45, lost 0.393497109413147\n",
            "epoch 46, lost 0.38910311460494995\n",
            "epoch 47, lost 0.38475796580314636\n",
            "epoch 48, lost 0.38046160340309143\n",
            "epoch 49, lost 0.3762129843235016\n",
            "epoch 50, lost 0.3720119595527649\n",
            "epoch 51, lost 0.36785754561424255\n",
            "epoch 52, lost 0.3637498617172241\n",
            "epoch 53, lost 0.35968801379203796\n",
            "epoch 54, lost 0.3556714951992035\n",
            "epoch 55, lost 0.3516998887062073\n",
            "epoch 56, lost 0.34777218103408813\n",
            "epoch 57, lost 0.3438887894153595\n",
            "epoch 58, lost 0.34004858136177063\n",
            "epoch 59, lost 0.3362511694431305\n",
            "epoch 60, lost 0.33249661326408386\n",
            "epoch 61, lost 0.32878348231315613\n",
            "epoch 62, lost 0.3251119554042816\n",
            "epoch 63, lost 0.3214814364910126\n",
            "epoch 64, lost 0.3178918659687042\n",
            "epoch 65, lost 0.31434181332588196\n",
            "epoch 66, lost 0.310831755399704\n",
            "epoch 67, lost 0.30736058950424194\n",
            "epoch 68, lost 0.30392834544181824\n",
            "epoch 69, lost 0.30053436756134033\n",
            "epoch 70, lost 0.2971786558628082\n",
            "epoch 71, lost 0.2938597500324249\n",
            "epoch 72, lost 0.29057833552360535\n",
            "epoch 73, lost 0.28733351826667786\n",
            "epoch 74, lost 0.2841249704360962\n",
            "epoch 75, lost 0.28095200657844543\n",
            "epoch 76, lost 0.2778148055076599\n",
            "epoch 77, lost 0.2747124135494232\n",
            "epoch 78, lost 0.2716447114944458\n",
            "epoch 79, lost 0.2686111330986023\n",
            "epoch 80, lost 0.26561209559440613\n",
            "epoch 81, lost 0.26264578104019165\n",
            "epoch 82, lost 0.25971293449401855\n",
            "epoch 83, lost 0.2568129301071167\n",
            "epoch 84, lost 0.25394463539123535\n",
            "epoch 85, lost 0.25110924243927\n",
            "epoch 86, lost 0.24830509722232819\n",
            "epoch 87, lost 0.24553212523460388\n",
            "epoch 88, lost 0.24279046058654785\n",
            "epoch 89, lost 0.2400793582201004\n",
            "epoch 90, lost 0.2373984307050705\n",
            "epoch 91, lost 0.23474735021591187\n",
            "epoch 92, lost 0.23212601244449615\n",
            "epoch 93, lost 0.22953404486179352\n",
            "epoch 94, lost 0.22697089612483978\n",
            "epoch 95, lost 0.22443613409996033\n",
            "epoch 96, lost 0.22192977368831635\n",
            "epoch 97, lost 0.21945162117481232\n",
            "epoch 98, lost 0.2170010209083557\n",
            "epoch 99, lost 0.214577779173851\n",
            "epoch 100, lost 0.21218189597129822\n",
            "epoch 101, lost 0.20981226861476898\n",
            "epoch 102, lost 0.2074694037437439\n",
            "epoch 103, lost 0.20515260100364685\n",
            "epoch 104, lost 0.2028616964817047\n",
            "epoch 105, lost 0.2005961388349533\n",
            "epoch 106, lost 0.19835621118545532\n",
            "epoch 107, lost 0.1961413025856018\n",
            "epoch 108, lost 0.19395111501216888\n",
            "epoch 109, lost 0.19178523123264313\n",
            "epoch 110, lost 0.18964357674121857\n",
            "epoch 111, lost 0.1875256597995758\n",
            "epoch 112, lost 0.1854316145181656\n",
            "epoch 113, lost 0.18336103856563568\n",
            "epoch 114, lost 0.181313619017601\n",
            "epoch 115, lost 0.17928875982761383\n",
            "epoch 116, lost 0.17728672921657562\n",
            "epoch 117, lost 0.17530685663223267\n",
            "epoch 118, lost 0.17334941029548645\n",
            "epoch 119, lost 0.1714136004447937\n",
            "epoch 120, lost 0.16949956119060516\n",
            "epoch 121, lost 0.16760650277137756\n",
            "epoch 122, lost 0.1657351553440094\n",
            "epoch 123, lost 0.16388429701328278\n",
            "epoch 124, lost 0.16205407679080963\n",
            "epoch 125, lost 0.16024447977542877\n",
            "epoch 126, lost 0.15845510363578796\n",
            "epoch 127, lost 0.1566857248544693\n",
            "epoch 128, lost 0.1549360603094101\n",
            "epoch 129, lost 0.1532057523727417\n",
            "epoch 130, lost 0.1514950692653656\n",
            "epoch 131, lost 0.14980323612689972\n",
            "epoch 132, lost 0.14813052117824554\n",
            "epoch 133, lost 0.1464763581752777\n",
            "epoch 134, lost 0.1448405683040619\n",
            "epoch 135, lost 0.14322321116924286\n",
            "epoch 136, lost 0.14162395894527435\n",
            "epoch 137, lost 0.14004242420196533\n",
            "epoch 138, lost 0.1384785771369934\n",
            "epoch 139, lost 0.1369321495294571\n",
            "epoch 140, lost 0.13540302217006683\n",
            "epoch 141, lost 0.13389107584953308\n",
            "epoch 142, lost 0.13239575922489166\n",
            "epoch 143, lost 0.1309175193309784\n",
            "epoch 144, lost 0.1294553428888321\n",
            "epoch 145, lost 0.12800981104373932\n",
            "epoch 146, lost 0.12658046185970306\n",
            "epoch 147, lost 0.1251669079065323\n",
            "epoch 148, lost 0.1237693801522255\n",
            "epoch 149, lost 0.12238717824220657\n",
            "epoch 150, lost 0.12102050334215164\n",
            "epoch 151, lost 0.11966904997825623\n",
            "epoch 152, lost 0.11833275109529495\n",
            "epoch 153, lost 0.1170114055275917\n",
            "epoch 154, lost 0.11570463329553604\n",
            "epoch 155, lost 0.11441261321306229\n",
            "epoch 156, lost 0.11313510686159134\n",
            "epoch 157, lost 0.11187171190977097\n",
            "epoch 158, lost 0.11062223464250565\n",
            "epoch 159, lost 0.10938708484172821\n",
            "epoch 160, lost 0.10816559940576553\n",
            "epoch 161, lost 0.10695772618055344\n",
            "epoch 162, lost 0.10576324909925461\n",
            "epoch 163, lost 0.10458224266767502\n",
            "epoch 164, lost 0.1034143939614296\n",
            "epoch 165, lost 0.10225965827703476\n",
            "epoch 166, lost 0.10111770778894424\n",
            "epoch 167, lost 0.09998857975006104\n",
            "epoch 168, lost 0.09887190163135529\n",
            "epoch 169, lost 0.0977679193019867\n",
            "epoch 170, lost 0.09667614102363586\n",
            "epoch 171, lost 0.09559660404920578\n",
            "epoch 172, lost 0.09452910721302032\n",
            "epoch 173, lost 0.09347343444824219\n",
            "epoch 174, lost 0.09242961555719376\n",
            "epoch 175, lost 0.09139744937419891\n",
            "epoch 176, lost 0.09037706255912781\n",
            "epoch 177, lost 0.0893675684928894\n",
            "epoch 178, lost 0.08836971968412399\n",
            "epoch 179, lost 0.0873829573392868\n",
            "epoch 180, lost 0.0864071324467659\n",
            "epoch 181, lost 0.0854421854019165\n",
            "epoch 182, lost 0.08448807895183563\n",
            "epoch 183, lost 0.08354450017213821\n",
            "epoch 184, lost 0.08261174708604813\n",
            "epoch 185, lost 0.08168917149305344\n",
            "epoch 186, lost 0.08077703416347504\n",
            "epoch 187, lost 0.0798749253153801\n",
            "epoch 188, lost 0.07898293435573578\n",
            "epoch 189, lost 0.07810115069150925\n",
            "epoch 190, lost 0.077228844165802\n",
            "epoch 191, lost 0.07636641710996628\n",
            "epoch 192, lost 0.07551365345716476\n",
            "epoch 193, lost 0.07467038929462433\n",
            "epoch 194, lost 0.07383669912815094\n",
            "epoch 195, lost 0.0730121061205864\n",
            "epoch 196, lost 0.0721968412399292\n",
            "epoch 197, lost 0.07139058411121368\n",
            "epoch 198, lost 0.07059334963560104\n",
            "epoch 199, lost 0.06980499625205994\n",
            "epoch 200, lost 0.06902552396059036\n",
            "epoch 201, lost 0.06825479120016098\n",
            "epoch 202, lost 0.06749258190393448\n",
            "epoch 203, lost 0.06673885881900787\n",
            "epoch 204, lost 0.06599361449480057\n",
            "epoch 205, lost 0.0652567446231842\n",
            "epoch 206, lost 0.0645279660820961\n",
            "epoch 207, lost 0.06380732357501984\n",
            "epoch 208, lost 0.06309498101472855\n",
            "epoch 209, lost 0.062390271574258804\n",
            "epoch 210, lost 0.0616937018930912\n",
            "epoch 211, lost 0.06100473180413246\n",
            "epoch 212, lost 0.06032344326376915\n",
            "epoch 213, lost 0.05964988097548485\n",
            "epoch 214, lost 0.05898371711373329\n",
            "epoch 215, lost 0.058325137943029404\n",
            "epoch 216, lost 0.057673756033182144\n",
            "epoch 217, lost 0.05702979490160942\n",
            "epoch 218, lost 0.056392837315797806\n",
            "epoch 219, lost 0.055763181298971176\n",
            "epoch 220, lost 0.05514045059680939\n",
            "epoch 221, lost 0.05452460050582886\n",
            "epoch 222, lost 0.05391589179635048\n",
            "epoch 223, lost 0.05331381410360336\n",
            "epoch 224, lost 0.05271848291158676\n",
            "epoch 225, lost 0.05212980508804321\n",
            "epoch 226, lost 0.05154750123620033\n",
            "epoch 227, lost 0.050971999764442444\n",
            "epoch 228, lost 0.05040271580219269\n",
            "epoch 229, lost 0.049839939922094345\n",
            "epoch 230, lost 0.04928338900208473\n",
            "epoch 231, lost 0.04873302951455116\n",
            "epoch 232, lost 0.04818886145949364\n",
            "epoch 233, lost 0.047650814056396484\n",
            "epoch 234, lost 0.047118641436100006\n",
            "epoch 235, lost 0.04659237712621689\n",
            "epoch 236, lost 0.046072229743003845\n",
            "epoch 237, lost 0.045557618141174316\n",
            "epoch 238, lost 0.04504889249801636\n",
            "epoch 239, lost 0.04454588517546654\n",
            "epoch 240, lost 0.04404842481017113\n",
            "epoch 241, lost 0.04355659708380699\n",
            "epoch 242, lost 0.04307020455598831\n",
            "epoch 243, lost 0.04258917644619942\n",
            "epoch 244, lost 0.042113736271858215\n",
            "epoch 245, lost 0.041643332690000534\n",
            "epoch 246, lost 0.041178300976753235\n",
            "epoch 247, lost 0.04071842133998871\n",
            "epoch 248, lost 0.04026385769248009\n",
            "epoch 249, lost 0.03981417790055275\n",
            "epoch 250, lost 0.03936956822872162\n",
            "epoch 251, lost 0.03892994672060013\n",
            "epoch 252, lost 0.03849516436457634\n",
            "epoch 253, lost 0.038065355271101\n",
            "epoch 254, lost 0.03764024004340172\n",
            "epoch 255, lost 0.0372200571000576\n",
            "epoch 256, lost 0.03680429607629776\n",
            "epoch 257, lost 0.03639331832528114\n",
            "epoch 258, lost 0.035986948758363724\n",
            "epoch 259, lost 0.03558508679270744\n",
            "epoch 260, lost 0.0351877398788929\n",
            "epoch 261, lost 0.03479478508234024\n",
            "epoch 262, lost 0.03440618887543678\n",
            "epoch 263, lost 0.03402205929160118\n",
            "epoch 264, lost 0.03364213928580284\n",
            "epoch 265, lost 0.03326644003391266\n",
            "epoch 266, lost 0.03289496526122093\n",
            "epoch 267, lost 0.03252759575843811\n",
            "epoch 268, lost 0.032164353877305984\n",
            "epoch 269, lost 0.031805235892534256\n",
            "epoch 270, lost 0.03145007789134979\n",
            "epoch 271, lost 0.031098848208785057\n",
            "epoch 272, lost 0.03075149469077587\n",
            "epoch 273, lost 0.030408119782805443\n",
            "epoch 274, lost 0.030068611726164818\n",
            "epoch 275, lost 0.02973283641040325\n",
            "epoch 276, lost 0.029400819912552834\n",
            "epoch 277, lost 0.029072551056742668\n",
            "epoch 278, lost 0.028747864067554474\n",
            "epoch 279, lost 0.02842685393989086\n",
            "epoch 280, lost 0.0281093530356884\n",
            "epoch 281, lost 0.02779552899301052\n",
            "epoch 282, lost 0.0274850782006979\n",
            "epoch 283, lost 0.027178214862942696\n",
            "epoch 284, lost 0.026874642819166183\n",
            "epoch 285, lost 0.02657456323504448\n",
            "epoch 286, lost 0.02627776749432087\n",
            "epoch 287, lost 0.02598445862531662\n",
            "epoch 288, lost 0.0256942231208086\n",
            "epoch 289, lost 0.025407273322343826\n",
            "epoch 290, lost 0.025123514235019684\n",
            "epoch 291, lost 0.02484309673309326\n",
            "epoch 292, lost 0.024565555155277252\n",
            "epoch 293, lost 0.0242912657558918\n",
            "epoch 294, lost 0.02402004413306713\n",
            "epoch 295, lost 0.02375180646777153\n",
            "epoch 296, lost 0.02348657138645649\n",
            "epoch 297, lost 0.023224318400025368\n",
            "epoch 298, lost 0.02296501398086548\n",
            "epoch 299, lost 0.022708501666784286\n",
            "epoch 300, lost 0.022454889491200447\n",
            "epoch 301, lost 0.022204112261533737\n",
            "epoch 302, lost 0.02195626311004162\n",
            "epoch 303, lost 0.021710991859436035\n",
            "epoch 304, lost 0.021468568593263626\n",
            "epoch 305, lost 0.021228885278105736\n",
            "epoch 306, lost 0.020991778001189232\n",
            "epoch 307, lost 0.020757373422384262\n",
            "epoch 308, lost 0.020525572821497917\n",
            "epoch 309, lost 0.02029643952846527\n",
            "epoch 310, lost 0.020069725811481476\n",
            "epoch 311, lost 0.01984560117125511\n",
            "epoch 312, lost 0.01962406188249588\n",
            "epoch 313, lost 0.019404884427785873\n",
            "epoch 314, lost 0.019188188016414642\n",
            "epoch 315, lost 0.018973933532834053\n",
            "epoch 316, lost 0.01876203715801239\n",
            "epoch 317, lost 0.018552502617239952\n",
            "epoch 318, lost 0.0183453056961298\n",
            "epoch 319, lost 0.018140453845262527\n",
            "epoch 320, lost 0.017937950789928436\n",
            "epoch 321, lost 0.017737634479999542\n",
            "epoch 322, lost 0.01753949373960495\n",
            "epoch 323, lost 0.017343716695904732\n",
            "epoch 324, lost 0.017149971798062325\n",
            "epoch 325, lost 0.016958490014076233\n",
            "epoch 326, lost 0.01676909439265728\n",
            "epoch 327, lost 0.016581807285547256\n",
            "epoch 328, lost 0.016396652907133102\n",
            "epoch 329, lost 0.016213618218898773\n",
            "epoch 330, lost 0.016032539308071136\n",
            "epoch 331, lost 0.015853485092520714\n",
            "epoch 332, lost 0.015676476061344147\n",
            "epoch 333, lost 0.015501383692026138\n",
            "epoch 334, lost 0.01532828714698553\n",
            "epoch 335, lost 0.015157126821577549\n",
            "epoch 336, lost 0.014987846836447716\n",
            "epoch 337, lost 0.014820472337305546\n",
            "epoch 338, lost 0.014655006118118763\n",
            "epoch 339, lost 0.014491334557533264\n",
            "epoch 340, lost 0.014329567551612854\n",
            "epoch 341, lost 0.014169498346745968\n",
            "epoch 342, lost 0.014011308550834656\n",
            "epoch 343, lost 0.013854862190783024\n",
            "epoch 344, lost 0.013700118288397789\n",
            "epoch 345, lost 0.013547106646001339\n",
            "epoch 346, lost 0.013395817019045353\n",
            "epoch 347, lost 0.013246237300336361\n",
            "epoch 348, lost 0.013098306022584438\n",
            "epoch 349, lost 0.012952047400176525\n",
            "epoch 350, lost 0.012807407416403294\n",
            "epoch 351, lost 0.0126643693074584\n",
            "epoch 352, lost 0.012522947043180466\n",
            "epoch 353, lost 0.012383121065795422\n",
            "epoch 354, lost 0.012244844809174538\n",
            "epoch 355, lost 0.012108146212995052\n",
            "epoch 356, lost 0.011972909793257713\n",
            "epoch 357, lost 0.011839211918413639\n",
            "epoch 358, lost 0.01170699018985033\n",
            "epoch 359, lost 0.011576307006180286\n",
            "epoch 360, lost 0.01144698541611433\n",
            "epoch 361, lost 0.011319191195070744\n",
            "epoch 362, lost 0.01119276974350214\n",
            "epoch 363, lost 0.01106780581176281\n",
            "epoch 364, lost 0.010944223962724209\n",
            "epoch 365, lost 0.010821962729096413\n",
            "epoch 366, lost 0.010701182298362255\n",
            "epoch 367, lost 0.01058167964220047\n",
            "epoch 368, lost 0.010463505052030087\n",
            "epoch 369, lost 0.010346627794206142\n",
            "epoch 370, lost 0.01023108046501875\n",
            "epoch 371, lost 0.010116806253790855\n",
            "epoch 372, lost 0.010003902949392796\n",
            "epoch 373, lost 0.00989215262234211\n",
            "epoch 374, lost 0.009781702421605587\n",
            "epoch 375, lost 0.009672467596828938\n",
            "epoch 376, lost 0.009564423933625221\n",
            "epoch 377, lost 0.009457600302994251\n",
            "epoch 378, lost 0.009352005086839199\n",
            "epoch 379, lost 0.009247606620192528\n",
            "epoch 380, lost 0.009144335985183716\n",
            "epoch 381, lost 0.009042217396199703\n",
            "epoch 382, lost 0.00894123688340187\n",
            "epoch 383, lost 0.008841384202241898\n",
            "epoch 384, lost 0.008742679841816425\n",
            "epoch 385, lost 0.00864503812044859\n",
            "epoch 386, lost 0.00854854192584753\n",
            "epoch 387, lost 0.0084530059248209\n",
            "epoch 388, lost 0.008358635008335114\n",
            "epoch 389, lost 0.008265292271971703\n",
            "epoch 390, lost 0.00817304290831089\n",
            "epoch 391, lost 0.008081718347966671\n",
            "epoch 392, lost 0.007991491816937923\n",
            "epoch 393, lost 0.007902289740741253\n",
            "epoch 394, lost 0.007814011536538601\n",
            "epoch 395, lost 0.007726726122200489\n",
            "epoch 396, lost 0.007640470750629902\n",
            "epoch 397, lost 0.007555137854069471\n",
            "epoch 398, lost 0.007470783311873674\n",
            "epoch 399, lost 0.0073873610235750675\n",
            "epoch 400, lost 0.007304864935576916\n",
            "epoch 401, lost 0.007223272696137428\n",
            "epoch 402, lost 0.007142626214772463\n",
            "epoch 403, lost 0.00706287007778883\n",
            "epoch 404, lost 0.0069839986972510815\n",
            "epoch 405, lost 0.006905979942530394\n",
            "epoch 406, lost 0.006828906945884228\n",
            "epoch 407, lost 0.0067526656202971935\n",
            "epoch 408, lost 0.006677236873656511\n",
            "epoch 409, lost 0.006602686829864979\n",
            "epoch 410, lost 0.006528947968035936\n",
            "epoch 411, lost 0.006456002127379179\n",
            "epoch 412, lost 0.006383955013006926\n",
            "epoch 413, lost 0.006312633864581585\n",
            "epoch 414, lost 0.0062421527691185474\n",
            "epoch 415, lost 0.006172467954456806\n",
            "epoch 416, lost 0.00610352260991931\n",
            "epoch 417, lost 0.006035360973328352\n",
            "epoch 418, lost 0.005967969074845314\n",
            "epoch 419, lost 0.005901309661567211\n",
            "epoch 420, lost 0.005835430696606636\n",
            "epoch 421, lost 0.00577025068923831\n",
            "epoch 422, lost 0.005705809220671654\n",
            "epoch 423, lost 0.005642075557261705\n",
            "epoch 424, lost 0.005579131655395031\n",
            "epoch 425, lost 0.005516801029443741\n",
            "epoch 426, lost 0.005455226171761751\n",
            "epoch 427, lost 0.00539427250623703\n",
            "epoch 428, lost 0.005334064830094576\n",
            "epoch 429, lost 0.005274495575577021\n",
            "epoch 430, lost 0.0052155982702970505\n",
            "epoch 431, lost 0.00515733053907752\n",
            "epoch 432, lost 0.00509975291788578\n",
            "epoch 433, lost 0.005042827222496271\n",
            "epoch 434, lost 0.004986502695828676\n",
            "epoch 435, lost 0.004930788651108742\n",
            "epoch 436, lost 0.0048757316544651985\n",
            "epoch 437, lost 0.004821274895220995\n",
            "epoch 438, lost 0.004767448175698519\n",
            "epoch 439, lost 0.004714209586381912\n",
            "epoch 440, lost 0.004661562852561474\n",
            "epoch 441, lost 0.004609501454979181\n",
            "epoch 442, lost 0.0045580435544252396\n",
            "epoch 443, lost 0.004507154226303101\n",
            "epoch 444, lost 0.004456797149032354\n",
            "epoch 445, lost 0.004407048691064119\n",
            "epoch 446, lost 0.004357828758656979\n",
            "epoch 447, lost 0.004309173207730055\n",
            "epoch 448, lost 0.004261031746864319\n",
            "epoch 449, lost 0.004213471431285143\n",
            "epoch 450, lost 0.004166422877460718\n",
            "epoch 451, lost 0.004119915887713432\n",
            "epoch 452, lost 0.004073891323059797\n",
            "epoch 453, lost 0.004028399474918842\n",
            "epoch 454, lost 0.0039833965711295605\n",
            "epoch 455, lost 0.003938931506127119\n",
            "epoch 456, lost 0.003894929541274905\n",
            "epoch 457, lost 0.0038514474872499704\n",
            "epoch 458, lost 0.003808440174907446\n",
            "epoch 459, lost 0.003765909932553768\n",
            "epoch 460, lost 0.0037238500081002712\n",
            "epoch 461, lost 0.0036822804249823093\n",
            "epoch 462, lost 0.003641159040853381\n",
            "epoch 463, lost 0.0036005163565278053\n",
            "epoch 464, lost 0.0035602988209575415\n",
            "epoch 465, lost 0.003520549740642309\n",
            "epoch 466, lost 0.003481246531009674\n",
            "epoch 467, lost 0.0034423740580677986\n",
            "epoch 468, lost 0.003403916023671627\n",
            "epoch 469, lost 0.003365887561812997\n",
            "epoch 470, lost 0.003328324994072318\n",
            "epoch 471, lost 0.0032911694142967463\n",
            "epoch 472, lost 0.0032544108107686043\n",
            "epoch 473, lost 0.003218043828383088\n",
            "epoch 474, lost 0.003182098036631942\n",
            "epoch 475, lost 0.003146580420434475\n",
            "epoch 476, lost 0.0031114399898797274\n",
            "epoch 477, lost 0.003076698863878846\n",
            "epoch 478, lost 0.0030423372518271208\n",
            "epoch 479, lost 0.0030083737801760435\n",
            "epoch 480, lost 0.0029747774824500084\n",
            "epoch 481, lost 0.0029415725730359554\n",
            "epoch 482, lost 0.0029087141156196594\n",
            "epoch 483, lost 0.002876247512176633\n",
            "epoch 484, lost 0.002844109432771802\n",
            "epoch 485, lost 0.002812345279380679\n",
            "epoch 486, lost 0.0027809340972453356\n",
            "epoch 487, lost 0.0027498917188495398\n",
            "epoch 488, lost 0.0027191767003387213\n",
            "epoch 489, lost 0.00268882280215621\n",
            "epoch 490, lost 0.002658798126503825\n",
            "epoch 491, lost 0.002629106631502509\n",
            "epoch 492, lost 0.0025997585617005825\n",
            "epoch 493, lost 0.002570713870227337\n",
            "epoch 494, lost 0.002541999565437436\n",
            "epoch 495, lost 0.002513607731088996\n",
            "epoch 496, lost 0.002485534641891718\n",
            "epoch 497, lost 0.0024577851872891188\n",
            "epoch 498, lost 0.0024303370155394077\n",
            "epoch 499, lost 0.0024032089859247208\n"
          ]
        }
      ]
    },
    {
      "cell_type": "code",
      "source": [
        "with torch.no_grad():\n",
        "  predicted = model(Variable(torch.from_numpy(x_train))).data.numpy()\n",
        "  print(predicted)"
      ],
      "metadata": {
        "colab": {
          "base_uri": "https://localhost:8080/"
        },
        "id": "aBvh7dDwuOnG",
        "outputId": "57666df8-8025-4fea-9233-8edbcd3c3f68"
      },
      "execution_count": 49,
      "outputs": [
        {
          "output_type": "stream",
          "name": "stdout",
          "text": [
            "[[ 0.9088082]\n",
            " [ 2.9219408]\n",
            " [ 4.9350734]\n",
            " [ 6.948206 ]\n",
            " [ 8.961338 ]\n",
            " [10.97447  ]\n",
            " [12.987603 ]\n",
            " [15.000736 ]\n",
            " [17.013868 ]\n",
            " [19.027    ]\n",
            " [21.040133 ]]\n"
          ]
        }
      ]
    },
    {
      "cell_type": "markdown",
      "source": [
        "\n",
        "\n",
        "> 들여쓴 블록\n",
        "\n"
      ],
      "metadata": {
        "id": "jRaJvVRc-0gr"
      }
    }
  ]
}